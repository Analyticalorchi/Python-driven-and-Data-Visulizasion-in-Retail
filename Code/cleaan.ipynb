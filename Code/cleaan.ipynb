{
 "cells": [
  {
   "cell_type": "code",
   "execution_count": null,
   "metadata": {},
   "outputs": [],
   "source": [
    "import pandas as pd\n",
    "\n",
    "# Load the dataset into a Pandas DataFrame\n",
    "original_data = pd.read_csv('F:\\Summer 2024\\Data Visualization\\Project Proposal\\Code\\healthcare_dataset.csv')  # Replace with your actual file path\n",
    "\n",
    "# Display the first few rows of the dataset to understand its structure\n",
    "print(original_data.head())\n",
    "\n",
    "# Column Removal and Renaming\n",
    "# Exclude columns that are not relevant for analysis\n",
    "columns_to_exclude = ['Name', 'Room Number']\n",
    "data_1 = original_data.drop(columns=columns_to_exclude)\n",
    "\n",
    "# Standardize column names by converting spaces to underscores\n",
    "data_1.columns = [col.replace(' ', '_') for col in data_1.columns]\n",
    "\n",
    "# Display the new column names to confirm changes\n",
    "print(data_1.columns)\n",
    "\n",
    "# Data Type Conversion\n",
    "# Convert 'Date_of_Admission' and 'Discharge_Date' from string to datetime format\n",
    "data_1['Date_of_Admission'] = pd.to_datetime(data_1['Date_of_Admission'], errors='coerce')\n",
    "data_1['Discharge_Date'] = pd.to_datetime(data_1['Discharge_Date'], errors='coerce')\n",
    "\n",
    "# Verify data types of columns to ensure correct conversion\n",
    "print(data_1.dtypes)\n",
    "\n",
    "# Save the cleaned DataFrame to a new CSV file (optional)\n",
    "data_1.to_csv('path_to_cleaned_dataset.csv', index=False)  # Replace with your desired file path\n",
    "\n",
    "# Display the first few rows of the cleaned dataset to verify changes\n",
    "print(data_1.head())\n"
   ]
  }
 ],
 "metadata": {
  "language_info": {
   "name": "python"
  }
 },
 "nbformat": 4,
 "nbformat_minor": 2
}
